{
 "cells": [
  {
   "cell_type": "code",
   "execution_count": 3,
   "id": "0d577ba7",
   "metadata": {},
   "outputs": [
    {
     "name": "stdout",
     "output_type": "stream",
     "text": [
      "Texte original :\n",
      " OMG! Flash floods in #Texas 😱😱 Visit https://weather.com for updates!!\n",
      "Cleaned        :\n",
      " omg flash floods texas visit for updates\n",
      "Tokens         :\n",
      " ['omg', 'flash', 'flood', 'texa', 'visit', 'http', 'updat']\n",
      "Final processed:\n",
      " omg flash flood texa visit updat\n"
     ]
    },
    {
     "name": "stderr",
     "output_type": "stream",
     "text": [
      "[nltk_data] Downloading package stopwords to\n",
      "[nltk_data]     /Users/armaaand/nltk_data...\n",
      "[nltk_data]   Package stopwords is already up-to-date!\n",
      "[nltk_data] Downloading package punkt to /Users/armaaand/nltk_data...\n",
      "[nltk_data]   Package punkt is already up-to-date!\n"
     ]
    }
   ],
   "source": [
    "import sys\n",
    "import os\n",
    "sys.path.append(os.path.abspath(os.path.join(os.getcwd(), '..')))\n",
    "from src.preprocessing import clean_text, tokenize, preprocess_text\n",
    "\n",
    "tweet = \"OMG! Flash floods in #Texas 😱😱 Visit https://weather.com for updates!!\"\n",
    "\n",
    "print(\"Texte original :\\n\", tweet)\n",
    "print(\"Cleaned        :\\n\", clean_text(tweet))\n",
    "print(\"Tokens         :\\n\", tokenize(tweet))\n",
    "print(\"Final processed:\\n\", preprocess_text(tweet))\n"
   ]
  }
 ],
 "metadata": {
  "kernelspec": {
   "display_name": "base",
   "language": "python",
   "name": "python3"
  },
  "language_info": {
   "codemirror_mode": {
    "name": "ipython",
    "version": 3
   },
   "file_extension": ".py",
   "mimetype": "text/x-python",
   "name": "python",
   "nbconvert_exporter": "python",
   "pygments_lexer": "ipython3",
   "version": "3.12.2"
  }
 },
 "nbformat": 4,
 "nbformat_minor": 5
}
